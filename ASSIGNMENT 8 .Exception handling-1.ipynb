{
 "cells": [
  {
   "cell_type": "markdown",
   "id": "7034927d-1644-44db-8cee-d0636eaea08e",
   "metadata": {},
   "source": [
    "Q1) What is an exception in python ?write the difference between exception and syntex error"
   ]
  },
  {
   "cell_type": "markdown",
   "id": "b218625e-fba4-4c6a-b958-8f98b2ddc6b4",
   "metadata": {},
   "source": [
    "Ans:---\n",
    "An exception is a runtime error that occurs during program execution and can be caught and handled.\n",
    "Syntax error is a coding error that occurs before execution an prevents the program from running.\n",
    "The main difference between exception error and syntax error is that ,exception happen during the program's execution,while syntax errors happen before execution.\n",
    "Exception can be caught and handled,while syntax errors need to be fixed in the code."
   ]
  },
  {
   "cell_type": "markdown",
   "id": "130c8ec8-5ee6-4426-a033-0341b183ec3b",
   "metadata": {},
   "source": [
    "Q2) What happen when an exception is not handled ? Explain with example"
   ]
  },
  {
   "cell_type": "markdown",
   "id": "94fd5f0d-ef99-42a0-bd48-79610929558e",
   "metadata": {},
   "source": [
    "Ans:---\n",
    "When an exception is not handled in python, the program terminates abruptly and displays a traceback error message .\n",
    "The traceback provides information about the exception type,the line where it occured , and the call stack .\n",
    "Handling exceptions with try-except blocks allows for graceful error handling and prevents the program from crashing"
   ]
  },
  {
   "cell_type": "code",
   "execution_count": 1,
   "id": "2c87bd75-0a89-4224-82f8-300c5c64da75",
   "metadata": {},
   "outputs": [
    {
     "name": "stdout",
     "output_type": "stream",
     "text": [
      "division by zero\n"
     ]
    }
   ],
   "source": [
    "try:\n",
    "    10/0\n",
    "except ZeroDivisionError as e:\n",
    "    print (e)"
   ]
  },
  {
   "cell_type": "code",
   "execution_count": 2,
   "id": "f805b556-bd72-419b-b152-dc2136408882",
   "metadata": {},
   "outputs": [
    {
     "name": "stdout",
     "output_type": "stream",
     "text": [
      "divide by zero is not defined\n"
     ]
    }
   ],
   "source": [
    "try:\n",
    "    10/0\n",
    "except ZeroDivisionError as e:\n",
    "    print (\"divide by zero is not defined\")"
   ]
  },
  {
   "cell_type": "markdown",
   "id": "4ef28337-3746-46e6-b985-afab58a5d2b1",
   "metadata": {},
   "source": [
    "Q3)which python statement are used to catch and handled exception ? explain with example? \n",
    "class validateage(Exception):"
   ]
  },
  {
   "cell_type": "markdown",
   "id": "bc821708-9b8a-486d-9510-d5464b86e957",
   "metadata": {},
   "source": [
    "Ans:---\n",
    "In python , the \"try-except\" statement is used to catch and handle exceptions.\n",
    "It allows us to write code that may potentially raise an exception and provides a way to gracefully handle that exception without causing the program to terminate abruptly"
   ]
  },
  {
   "cell_type": "code",
   "execution_count": 7,
   "id": "9d56a938-2d01-4562-8909-5872cd6f9dc0",
   "metadata": {},
   "outputs": [
    {
     "name": "stdin",
     "output_type": "stream",
     "text": [
      "enter your age 18\n"
     ]
    },
    {
     "name": "stdout",
     "output_type": "stream",
     "text": [
      "you are eligible\n"
     ]
    }
   ],
   "source": [
    "class validateage(Exception):\n",
    "    pass \n",
    "def validateage_user(age):\n",
    "    if age <0:\n",
    "        raise validateage(\"age can't be negative\")\n",
    "    elif age<18:\n",
    "        raise validateage(\"you are not eligible\")\n",
    "    else:\n",
    "        print (\"you are eligible\")\n",
    "try:\n",
    "    user_age=int(input(\"enter your age\"))\n",
    "    validateage_user(user_age)\n",
    "    \n",
    "except validateage as e:\n",
    "    print (\"age validation failed BECAUSE \",str(e))"
   ]
  },
  {
   "cell_type": "code",
   "execution_count": 8,
   "id": "2d35cd25-c39d-413c-a5a0-4a8bb356b5d1",
   "metadata": {},
   "outputs": [
    {
     "name": "stdin",
     "output_type": "stream",
     "text": [
      "enter your age -23\n"
     ]
    },
    {
     "name": "stdout",
     "output_type": "stream",
     "text": [
      "age validation failed BECAUSE  age can't be negative\n"
     ]
    }
   ],
   "source": [
    "class validateage(Exception):\n",
    "    pass \n",
    "def validateage_user(age):\n",
    "    if age <0:\n",
    "        raise validateage(\"age can't be negative\")\n",
    "    elif age<18:\n",
    "        raise validateage(\"you are not eligible\")\n",
    "    else:\n",
    "        print (\"you are eligible\")\n",
    "try:\n",
    "    user_age=int(input(\"enter your age\"))\n",
    "    validateage_user(user_age)\n",
    "    \n",
    "except validateage as e:\n",
    "    print (\"age validation failed BECAUSE \",str(e))"
   ]
  },
  {
   "cell_type": "code",
   "execution_count": 9,
   "id": "75af5c83-30ea-4356-ae08-9e93fcb6f169",
   "metadata": {},
   "outputs": [
    {
     "name": "stdin",
     "output_type": "stream",
     "text": [
      "enter your age 15\n"
     ]
    },
    {
     "name": "stdout",
     "output_type": "stream",
     "text": [
      "age validation failed BECAUSE  you are not eligible\n"
     ]
    }
   ],
   "source": [
    "class validateage(Exception):\n",
    "    pass \n",
    "def validateage_user(age):\n",
    "    if age <0:\n",
    "        raise validateage(\"age can't be negative\")\n",
    "    elif age<18:\n",
    "        raise validateage(\"you are not eligible\")\n",
    "    else:\n",
    "        print (\"you are eligible\")\n",
    "try:\n",
    "    user_age=int(input(\"enter your age\"))\n",
    "    validateage_user(user_age)\n",
    "    \n",
    "except validateage as e:\n",
    "    print (\"age validation failed BECAUSE \",str(e))"
   ]
  },
  {
   "cell_type": "markdown",
   "id": "692540be-952d-4daf-9e5e-202b1e3cd08a",
   "metadata": {},
   "source": [
    "Q4) Explain with an example:\n",
    "    a) try and else\n",
    "    b) finally\n",
    "    c)raise"
   ]
  },
  {
   "cell_type": "markdown",
   "id": "addc4b15-0b92-42b3-bd0f-5c17ba1aaebd",
   "metadata": {},
   "source": [
    "Ans:---\n",
    "a) try and else:\n",
    "The try and else blocks are used in exception handling in many programming languages, including Python. The purpose of using them is to handle potential exceptions that may occur during the execution of a specific block of code.Try will execute it."
   ]
  },
  {
   "cell_type": "code",
   "execution_count": 11,
   "id": "6d676b61-9cc8-4b20-8d30-3d369c4bb254",
   "metadata": {},
   "outputs": [
    {
     "name": "stdout",
     "output_type": "stream",
     "text": [
      "Error: Division by zero occurred!\n"
     ]
    }
   ],
   "source": [
    "try:\n",
    "    \n",
    "    result = 10 / 0\n",
    "except ZeroDivisionError:\n",
    "    print(\"Error: Division by zero occurred!\")\n",
    "else:\n",
    "    print(\"The division was successful.\")\n",
    "    print(\"Result:\", result)\n"
   ]
  },
  {
   "cell_type": "code",
   "execution_count": 12,
   "id": "b29998b9-87e6-4465-aab0-0eee694bf07d",
   "metadata": {},
   "outputs": [
    {
     "name": "stdout",
     "output_type": "stream",
     "text": [
      "The division was successful.\n",
      "Result: 5.0\n"
     ]
    }
   ],
   "source": [
    "try:\n",
    "    \n",
    "    result = 10 / 2\n",
    "except ZeroDivisionError:\n",
    "    print(\"Error: Division by zero occurred!\")\n",
    "else:\n",
    "    print(\"The division was successful.\")\n",
    "    print(\"Result:\", result)\n"
   ]
  },
  {
   "cell_type": "markdown",
   "id": "e141825a-8726-453b-a15d-1ae7ffbfc54b",
   "metadata": {},
   "source": [
    "In above examples if  division error occured them it passes through except.\n",
    "And when the division error not occured then else get executed."
   ]
  },
  {
   "cell_type": "markdown",
   "id": "ac7f6c99-97f7-4650-b402-77b7d34ea0d2",
   "metadata": {},
   "source": [
    "b) finally:\n",
    "The finally block is another part of exception handling in many programming languages, including Python. It is used to define a block of code that will be executed regardless of whether an exception occurred or not."
   ]
  },
  {
   "cell_type": "code",
   "execution_count": 13,
   "id": "ae2fc487-a66e-46e9-b262-7a83f91e23c8",
   "metadata": {},
   "outputs": [
    {
     "name": "stdout",
     "output_type": "stream",
     "text": [
      "Error: File not found!\n"
     ]
    }
   ],
   "source": [
    "try:\n",
    "    \n",
    "    f= open(\"example.txt\", \"r\")\n",
    "    details = f.read()\n",
    "    print(details)\n",
    "except FileNotFoundError:\n",
    "    print(\"Error: File not found!\")\n",
    "finally:\n",
    "    if 'file' in locals():\n",
    "        file.close()\n"
   ]
  },
  {
   "cell_type": "markdown",
   "id": "13a217a4-35fe-4406-b44f-8078faa24677",
   "metadata": {},
   "source": [
    "Here finally will be execute in any situation whether except execute or not"
   ]
  },
  {
   "cell_type": "markdown",
   "id": "26b8dd52-a281-4f6f-8e1c-3d5b34025256",
   "metadata": {},
   "source": [
    "c) raise:\n",
    "The raise statement is used to explicitly raise an exception in Python. It allows us to create and raise your own exceptions or re-raise existing exceptions."
   ]
  },
  {
   "cell_type": "code",
   "execution_count": 15,
   "id": "be94c490-6aa5-48e8-9589-6b35de37edad",
   "metadata": {},
   "outputs": [
    {
     "name": "stdout",
     "output_type": "stream",
     "text": [
      "Calculation of square root of negative number in simple way\n"
     ]
    }
   ],
   "source": [
    "def calculate_square_root(number):\n",
    "    if number < 0:\n",
    "        raise ValueError(\"Calculation of square root of negative number in simple way\")\n",
    "    else:\n",
    "        return number ** 0.5\n",
    "\n",
    "try:\n",
    "    result = calculate_square_root(-6)\n",
    "except ValueError as error:\n",
    "    print(error)\n"
   ]
  },
  {
   "cell_type": "code",
   "execution_count": 16,
   "id": "be9c5a77-9b88-499f-ba4a-8aefce159546",
   "metadata": {},
   "outputs": [],
   "source": [
    "def calculate_square_root(number):\n",
    "    if number < 0:\n",
    "        raise ValueError(\"Calculation of square root of negative number in simple way\")\n",
    "    else:\n",
    "        return number ** 0.5\n",
    "\n",
    "try:\n",
    "    result = calculate_square_root(4)\n",
    "except ValueError as error:\n",
    "    print(error)\n"
   ]
  },
  {
   "cell_type": "code",
   "execution_count": 18,
   "id": "bcea6fe4-1517-4109-9f7c-9bae54681245",
   "metadata": {},
   "outputs": [
    {
     "data": {
      "text/plain": [
       "2.0"
      ]
     },
     "execution_count": 18,
     "metadata": {},
     "output_type": "execute_result"
    }
   ],
   "source": [
    "calculate_square_root(4)"
   ]
  },
  {
   "cell_type": "markdown",
   "id": "d53b622c-37f6-4071-b4ae-dee15fe79268",
   "metadata": {},
   "source": [
    "Here raise will execute if square root is negative"
   ]
  },
  {
   "cell_type": "markdown",
   "id": "d37ffe2e-31ad-440e-b208-3aefbb9e2b4c",
   "metadata": {},
   "source": [
    "Q5) What are Custom Exception in python ?Why do we need Custom Exceptions? Explain with an example."
   ]
  },
  {
   "cell_type": "markdown",
   "id": "c71edca5-21c4-4cf4-bfc1-208c04120250",
   "metadata": {},
   "source": [
    "Ans:---\n",
    "Custom exceptions in Python are user-defined exception classes that inherit from the built-in \"Exception\" class or its subclasses. They are created to handle specific error conditions in a program. Custom exceptions provide meaningful and specific error messages, improve code readability, promote modularity, and facilitate error propagation. They allow us  to differentiate between different types of errors and handle exceptional situations that are unique to our applications,therefore we need Custom Exceptions."
   ]
  },
  {
   "cell_type": "code",
   "execution_count": 21,
   "id": "d8557eac-2b8f-4418-a264-c9a90dd3f382",
   "metadata": {},
   "outputs": [],
   "source": [
    "def validate_age(age) : \n",
    "    if age < 0 :\n",
    "        raise validateage(\"age cannot be negative \" )\n",
    "    elif age > 200 : \n",
    "        raise validateage(\"great! your age is very much high \" )\n",
    "    else :\n",
    "        print(\"congractulations ! age verification is successful\" )"
   ]
  },
  {
   "cell_type": "code",
   "execution_count": 23,
   "id": "bcefc7a7-78d0-4015-a815-d7bc1ffdb653",
   "metadata": {},
   "outputs": [
    {
     "name": "stdin",
     "output_type": "stream",
     "text": [
      " PLEASE enter your age -10\n"
     ]
    },
    {
     "name": "stdout",
     "output_type": "stream",
     "text": [
      "age cannot be negative \n"
     ]
    }
   ],
   "source": [
    "try :\n",
    "    age = int(input(\" PLEASE enter your age\" ))\n",
    "    validate_age(age)\n",
    "except validateage as e :\n",
    "    print(e)"
   ]
  },
  {
   "cell_type": "code",
   "execution_count": 30,
   "id": "dfaf0e12-d7bc-4761-bbce-e7d928a518f4",
   "metadata": {},
   "outputs": [
    {
     "name": "stdin",
     "output_type": "stream",
     "text": [
      " PLEASE enter your age 90\n"
     ]
    },
    {
     "name": "stdout",
     "output_type": "stream",
     "text": [
      "congractulations ! age verification is successful\n"
     ]
    }
   ],
   "source": [
    "try :\n",
    "    age = int(input(\" PLEASE enter your age\" ))\n",
    "    validate_age(age)\n",
    "except validateage as e :\n",
    "    print(e)"
   ]
  },
  {
   "cell_type": "code",
   "execution_count": 24,
   "id": "a5630ca4-e93b-4ede-ac86-50bc56b30f23",
   "metadata": {},
   "outputs": [
    {
     "name": "stdin",
     "output_type": "stream",
     "text": [
      " PLEASE enter your age 203\n"
     ]
    },
    {
     "name": "stdout",
     "output_type": "stream",
     "text": [
      "great! your age is very much high \n"
     ]
    }
   ],
   "source": [
    "try :\n",
    "    age = int(input(\" PLEASE enter your age\" ))\n",
    "    validate_age(age)\n",
    "except validateage as e :\n",
    "    print(e)"
   ]
  },
  {
   "cell_type": "markdown",
   "id": "0feda56f-d66b-4344-8d61-c502ed6becee",
   "metadata": {},
   "source": [
    "Q6) Create a Custom exception class .use this class to handle an exception."
   ]
  },
  {
   "cell_type": "code",
   "execution_count": 35,
   "id": "6b233104-249c-4f84-ab13-e000ee123f2c",
   "metadata": {},
   "outputs": [],
   "source": [
    "def age_verification(age) : \n",
    "    if age < 0 :\n",
    "        raise validateage(\"SORRY! age cannot be negative \" )\n",
    "    elif age > 18 : \n",
    "        raise validateage(\"GREAT! you are  eligible to vote\" )\n",
    "    else :\n",
    "        print(\"SORRY ! YOU ARE NOT ELIGIBLE\" )"
   ]
  },
  {
   "cell_type": "code",
   "execution_count": 36,
   "id": "32777639-bb20-4f6e-805a-3cfcb7d701e1",
   "metadata": {},
   "outputs": [
    {
     "name": "stdin",
     "output_type": "stream",
     "text": [
      " PLEASE enter your age 16\n"
     ]
    },
    {
     "name": "stdout",
     "output_type": "stream",
     "text": [
      "SORRY ! YOU ARE NOT ELIGIBLE\n"
     ]
    }
   ],
   "source": [
    "try :\n",
    "    age = int(input(\" PLEASE enter your age\" ))\n",
    "    age_verification(age)\n",
    "except validateage as e :\n",
    "    print(e)"
   ]
  },
  {
   "cell_type": "code",
   "execution_count": 37,
   "id": "e3d273bf-a412-4b14-84c5-87a1d1f508c5",
   "metadata": {},
   "outputs": [
    {
     "name": "stdin",
     "output_type": "stream",
     "text": [
      " PLEASE enter your age 23\n"
     ]
    },
    {
     "name": "stdout",
     "output_type": "stream",
     "text": [
      "GREAT! you are  eligible to vote\n"
     ]
    }
   ],
   "source": [
    "try :\n",
    "    age = int(input(\" PLEASE enter your age\" ))\n",
    "    age_verification(age)\n",
    "except validateage as e :\n",
    "    print(e)"
   ]
  },
  {
   "cell_type": "code",
   "execution_count": 38,
   "id": "14281cb9-a70e-4602-9a97-41c9fd37580c",
   "metadata": {},
   "outputs": [
    {
     "name": "stdin",
     "output_type": "stream",
     "text": [
      " PLEASE enter your age -70\n"
     ]
    },
    {
     "name": "stdout",
     "output_type": "stream",
     "text": [
      "SORRY! age cannot be negative \n"
     ]
    }
   ],
   "source": [
    "try :\n",
    "    age = int(input(\" PLEASE enter your age\" ))\n",
    "    age_verification(age)\n",
    "except validateage as e :\n",
    "    print(e)"
   ]
  },
  {
   "cell_type": "code",
   "execution_count": null,
   "id": "1e001882-ca8c-4006-93ff-526b8a6bc7a6",
   "metadata": {},
   "outputs": [],
   "source": []
  }
 ],
 "metadata": {
  "kernelspec": {
   "display_name": "Python 3 (ipykernel)",
   "language": "python",
   "name": "python3"
  },
  "language_info": {
   "codemirror_mode": {
    "name": "ipython",
    "version": 3
   },
   "file_extension": ".py",
   "mimetype": "text/x-python",
   "name": "python",
   "nbconvert_exporter": "python",
   "pygments_lexer": "ipython3",
   "version": "3.10.8"
  }
 },
 "nbformat": 4,
 "nbformat_minor": 5
}
